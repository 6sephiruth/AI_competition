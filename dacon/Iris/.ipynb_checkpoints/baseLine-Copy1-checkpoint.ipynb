{
 "cells": [
  {
   "cell_type": "markdown",
   "metadata": {},
   "source": [
    "### 본 코드는 사이킷런(sklearn)으로 수행하였으며, K-fold(교차검증) 방식과 2가지 방식의 모델(Multi-layer perceptron과 LinearRegression)으로 수행하였습니다."
   ]
  },
  {
   "cell_type": "code",
   "execution_count": 1,
   "metadata": {},
   "outputs": [],
   "source": [
    "import pandas as pd\n",
    "import numpy as np\n",
    "\n",
    "# Multi-layer perceptron 모델 구성\n",
    "from sklearn.neural_network import MLPRegressor\n",
    "\n",
    "# LinearRegression 모델 구성\n",
    "from sklearn.linear_model import LinearRegression\n",
    "\n",
    "# K-fold\n",
    "from sklearn.model_selection import KFold\n",
    "\n",
    "from sklearn import preprocessing"
   ]
  },
  {
   "cell_type": "markdown",
   "metadata": {},
   "source": [
    "### 데이터 불러오기\n",
    "#### csv 파일 읽어들이기"
   ]
  },
  {
   "cell_type": "code",
   "execution_count": 2,
   "metadata": {},
   "outputs": [
    {
     "data": {
      "text/html": [
       "<div>\n",
       "<style scoped>\n",
       "    .dataframe tbody tr th:only-of-type {\n",
       "        vertical-align: middle;\n",
       "    }\n",
       "\n",
       "    .dataframe tbody tr th {\n",
       "        vertical-align: top;\n",
       "    }\n",
       "\n",
       "    .dataframe thead th {\n",
       "        text-align: right;\n",
       "    }\n",
       "</style>\n",
       "<table border=\"1\" class=\"dataframe\">\n",
       "  <thead>\n",
       "    <tr style=\"text-align: right;\">\n",
       "      <th></th>\n",
       "      <th>id</th>\n",
       "      <th>species</th>\n",
       "      <th>sepal length (cm)</th>\n",
       "      <th>petal length (cm)</th>\n",
       "      <th>sepal width (cm)</th>\n",
       "      <th>petal width (cm)</th>\n",
       "    </tr>\n",
       "  </thead>\n",
       "  <tbody>\n",
       "    <tr>\n",
       "      <th>0</th>\n",
       "      <td>0</td>\n",
       "      <td>setosa</td>\n",
       "      <td>4.4</td>\n",
       "      <td>1.4</td>\n",
       "      <td>2.9</td>\n",
       "      <td>0.2</td>\n",
       "    </tr>\n",
       "    <tr>\n",
       "      <th>1</th>\n",
       "      <td>1</td>\n",
       "      <td>versicolor</td>\n",
       "      <td>6.4</td>\n",
       "      <td>4.5</td>\n",
       "      <td>3.2</td>\n",
       "      <td>1.5</td>\n",
       "    </tr>\n",
       "    <tr>\n",
       "      <th>2</th>\n",
       "      <td>2</td>\n",
       "      <td>virginica</td>\n",
       "      <td>6.2</td>\n",
       "      <td>4.8</td>\n",
       "      <td>2.8</td>\n",
       "      <td>1.8</td>\n",
       "    </tr>\n",
       "    <tr>\n",
       "      <th>3</th>\n",
       "      <td>3</td>\n",
       "      <td>virginica</td>\n",
       "      <td>7.2</td>\n",
       "      <td>6.1</td>\n",
       "      <td>3.6</td>\n",
       "      <td>2.5</td>\n",
       "    </tr>\n",
       "    <tr>\n",
       "      <th>4</th>\n",
       "      <td>4</td>\n",
       "      <td>setosa</td>\n",
       "      <td>4.9</td>\n",
       "      <td>1.4</td>\n",
       "      <td>3.0</td>\n",
       "      <td>0.2</td>\n",
       "    </tr>\n",
       "    <tr>\n",
       "      <th>...</th>\n",
       "      <td>...</td>\n",
       "      <td>...</td>\n",
       "      <td>...</td>\n",
       "      <td>...</td>\n",
       "      <td>...</td>\n",
       "      <td>...</td>\n",
       "    </tr>\n",
       "    <tr>\n",
       "      <th>70</th>\n",
       "      <td>70</td>\n",
       "      <td>versicolor</td>\n",
       "      <td>6.5</td>\n",
       "      <td>4.6</td>\n",
       "      <td>2.8</td>\n",
       "      <td>1.5</td>\n",
       "    </tr>\n",
       "    <tr>\n",
       "      <th>71</th>\n",
       "      <td>71</td>\n",
       "      <td>versicolor</td>\n",
       "      <td>5.6</td>\n",
       "      <td>3.6</td>\n",
       "      <td>2.9</td>\n",
       "      <td>1.3</td>\n",
       "    </tr>\n",
       "    <tr>\n",
       "      <th>72</th>\n",
       "      <td>72</td>\n",
       "      <td>versicolor</td>\n",
       "      <td>6.2</td>\n",
       "      <td>4.5</td>\n",
       "      <td>2.2</td>\n",
       "      <td>1.5</td>\n",
       "    </tr>\n",
       "    <tr>\n",
       "      <th>73</th>\n",
       "      <td>73</td>\n",
       "      <td>versicolor</td>\n",
       "      <td>4.9</td>\n",
       "      <td>3.3</td>\n",
       "      <td>2.4</td>\n",
       "      <td>1.0</td>\n",
       "    </tr>\n",
       "    <tr>\n",
       "      <th>74</th>\n",
       "      <td>74</td>\n",
       "      <td>versicolor</td>\n",
       "      <td>6.9</td>\n",
       "      <td>4.9</td>\n",
       "      <td>3.1</td>\n",
       "      <td>1.5</td>\n",
       "    </tr>\n",
       "  </tbody>\n",
       "</table>\n",
       "<p>75 rows × 6 columns</p>\n",
       "</div>"
      ],
      "text/plain": [
       "    id     species  sepal length (cm)  petal length (cm)  sepal width (cm)  \\\n",
       "0    0      setosa                4.4                1.4               2.9   \n",
       "1    1  versicolor                6.4                4.5               3.2   \n",
       "2    2   virginica                6.2                4.8               2.8   \n",
       "3    3   virginica                7.2                6.1               3.6   \n",
       "4    4      setosa                4.9                1.4               3.0   \n",
       "..  ..         ...                ...                ...               ...   \n",
       "70  70  versicolor                6.5                4.6               2.8   \n",
       "71  71  versicolor                5.6                3.6               2.9   \n",
       "72  72  versicolor                6.2                4.5               2.2   \n",
       "73  73  versicolor                4.9                3.3               2.4   \n",
       "74  74  versicolor                6.9                4.9               3.1   \n",
       "\n",
       "    petal width (cm)  \n",
       "0                0.2  \n",
       "1                1.5  \n",
       "2                1.8  \n",
       "3                2.5  \n",
       "4                0.2  \n",
       "..               ...  \n",
       "70               1.5  \n",
       "71               1.3  \n",
       "72               1.5  \n",
       "73               1.0  \n",
       "74               1.5  \n",
       "\n",
       "[75 rows x 6 columns]"
      ]
     },
     "execution_count": 2,
     "metadata": {},
     "output_type": "execute_result"
    }
   ],
   "source": [
    "train_df = pd.read_csv('./dataset/iris_train.csv')\n",
    "train_df"
   ]
  },
  {
   "cell_type": "markdown",
   "metadata": {},
   "source": [
    "### 학습 데이터 전처리 & 학습 데이터/결과 데이터 분류"
   ]
  },
  {
   "cell_type": "code",
   "execution_count": 3,
   "metadata": {},
   "outputs": [],
   "source": [
    "train_df['species'] = train_df['species'].map({'setosa':0, 'versicolor': 1, 'virginica': 2})\n",
    "\n",
    "X, Y = train_df.iloc[:,1:4] , train_df.iloc[:, 4:]"
   ]
  },
  {
   "cell_type": "markdown",
   "metadata": {},
   "source": [
    "### data normalization"
   ]
  },
  {
   "cell_type": "code",
   "execution_count": 4,
   "metadata": {},
   "outputs": [],
   "source": [
    "# standarlization\n",
    "X = preprocessing.StandardScaler().fit_transform(X)\n",
    "# min-max\n",
    "#X = preprocessing.MinMaxScaler().fit_transform(X)"
   ]
  },
  {
   "cell_type": "code",
   "execution_count": 5,
   "metadata": {},
   "outputs": [],
   "source": [
    "def MAE(true, pred):\n",
    "    score = np.mean(np.abs(true-pred))\n",
    "    return score\n",
    "\n",
    "\n",
    "model_arr = []\n",
    "MAE_error_record = []\n",
    "\n",
    "split_count = 5\n",
    "\n",
    "kf = KFold(n_splits= split_count)\n",
    "kf.get_n_splits(X)\n",
    "\n",
    "for train_index, test_index in kf.split(X):\n",
    "\n",
    "    x_train, x_test = X[train_index], X[test_index]\n",
    "    y_train, y_test = Y.values[train_index], Y.values[test_index]\n",
    "    \n",
    "    # multi-layer perceptron model. 으로 해봤을때 성능 확인\n",
    "    # created_model = MLPRegressor().fit(x_train, y_train)\n",
    "\n",
    "    # LinearRegression 으로 확인\n",
    "    created_model = LinearRegression().fit(x_train, y_train)\n",
    "    \n",
    "    pred = created_model.predict(x_test)\n",
    "    \n",
    "    MAE_error_record.append(MAE(y_test, pred))\n",
    "        \n",
    "    model_arr.append(created_model)"
   ]
  },
  {
   "cell_type": "code",
   "execution_count": 6,
   "metadata": {},
   "outputs": [
    {
     "name": "stdout",
     "output_type": "stream",
     "text": [
      "[LinearRegression(), LinearRegression(), LinearRegression(), LinearRegression(), LinearRegression()]\n",
      "[0.19804149075825211, 0.18687865136313317, 0.19352196334840516, 0.2173408938069675, 0.18507301564446058]\n"
     ]
    }
   ],
   "source": [
    "print(model_arr)\n",
    "print(MAE_error_record)"
   ]
  },
  {
   "cell_type": "markdown",
   "metadata": {},
   "source": [
    "### K-fold의 분류 수 만큼, 모델을 생성 한 뒤   모델 중 가장 MSE Error 값이 낮은 모델을 선정"
   ]
  },
  {
   "cell_type": "code",
   "execution_count": 7,
   "metadata": {},
   "outputs": [
    {
     "name": "stdout",
     "output_type": "stream",
     "text": [
      "Find model Num :  4 \n",
      "0.18507301564446058\n"
     ]
    }
   ],
   "source": [
    "find_model_num = np.where(MAE_error_record == np.min(MAE_error_record))[0][0]\n",
    "print(f\"Find model Num :  {find_model_num} \")\n",
    "\n",
    "final_model = model_arr[find_model_num]\n",
    "print(MAE_error_record[find_model_num])"
   ]
  },
  {
   "cell_type": "markdown",
   "metadata": {},
   "source": [
    "### test 결과 값 추정"
   ]
  },
  {
   "cell_type": "code",
   "execution_count": 8,
   "metadata": {},
   "outputs": [],
   "source": [
    "result_df = pd.read_csv('./dataset/iris_test.csv')\n",
    "result_df['species'] = result_df['species'].map({'setosa':0, 'versicolor': 1, 'virginica': 2})\n",
    "\n",
    "x_result = result_df.iloc[:,1:4]\n",
    "x_result = preprocessing.StandardScaler().fit_transform(x_result)\n",
    "\n",
    "y_result = final_model.predict(x_result)"
   ]
  },
  {
   "cell_type": "code",
   "execution_count": 9,
   "metadata": {},
   "outputs": [],
   "source": [
    "submission = pd.read_csv('./dataset/sample_submission.csv')\n",
    "submission['sepal width (cm)'] = y_result[:,0]\n",
    "submission['petal width (cm)'] = y_result[:,1]"
   ]
  },
  {
   "cell_type": "markdown",
   "metadata": {},
   "source": [
    "### submission 파일이 제대로 들어갔는지 확인"
   ]
  },
  {
   "cell_type": "code",
   "execution_count": 10,
   "metadata": {},
   "outputs": [
    {
     "data": {
      "text/html": [
       "<div>\n",
       "<style scoped>\n",
       "    .dataframe tbody tr th:only-of-type {\n",
       "        vertical-align: middle;\n",
       "    }\n",
       "\n",
       "    .dataframe tbody tr th {\n",
       "        vertical-align: top;\n",
       "    }\n",
       "\n",
       "    .dataframe thead th {\n",
       "        text-align: right;\n",
       "    }\n",
       "</style>\n",
       "<table border=\"1\" class=\"dataframe\">\n",
       "  <thead>\n",
       "    <tr style=\"text-align: right;\">\n",
       "      <th></th>\n",
       "      <th>id</th>\n",
       "      <th>sepal width (cm)</th>\n",
       "      <th>petal width (cm)</th>\n",
       "    </tr>\n",
       "  </thead>\n",
       "  <tbody>\n",
       "    <tr>\n",
       "      <th>0</th>\n",
       "      <td>0</td>\n",
       "      <td>4.103581</td>\n",
       "      <td>-1.934637</td>\n",
       "    </tr>\n",
       "    <tr>\n",
       "      <th>1</th>\n",
       "      <td>1</td>\n",
       "      <td>5.149807</td>\n",
       "      <td>-2.205094</td>\n",
       "    </tr>\n",
       "    <tr>\n",
       "      <th>2</th>\n",
       "      <td>2</td>\n",
       "      <td>4.103524</td>\n",
       "      <td>-2.112664</td>\n",
       "    </tr>\n",
       "    <tr>\n",
       "      <th>3</th>\n",
       "      <td>3</td>\n",
       "      <td>3.057354</td>\n",
       "      <td>-1.664180</td>\n",
       "    </tr>\n",
       "    <tr>\n",
       "      <th>4</th>\n",
       "      <td>4</td>\n",
       "      <td>2.393118</td>\n",
       "      <td>2.465300</td>\n",
       "    </tr>\n",
       "    <tr>\n",
       "      <th>...</th>\n",
       "      <td>...</td>\n",
       "      <td>...</td>\n",
       "      <td>...</td>\n",
       "    </tr>\n",
       "    <tr>\n",
       "      <th>70</th>\n",
       "      <td>70</td>\n",
       "      <td>2.529242</td>\n",
       "      <td>0.996478</td>\n",
       "    </tr>\n",
       "    <tr>\n",
       "      <th>71</th>\n",
       "      <td>71</td>\n",
       "      <td>2.010900</td>\n",
       "      <td>-2.105831</td>\n",
       "    </tr>\n",
       "    <tr>\n",
       "      <th>72</th>\n",
       "      <td>72</td>\n",
       "      <td>2.131773</td>\n",
       "      <td>3.200515</td>\n",
       "    </tr>\n",
       "    <tr>\n",
       "      <th>73</th>\n",
       "      <td>73</td>\n",
       "      <td>2.005817</td>\n",
       "      <td>0.152558</td>\n",
       "    </tr>\n",
       "    <tr>\n",
       "      <th>74</th>\n",
       "      <td>74</td>\n",
       "      <td>1.739275</td>\n",
       "      <td>2.790109</td>\n",
       "    </tr>\n",
       "  </tbody>\n",
       "</table>\n",
       "<p>75 rows × 3 columns</p>\n",
       "</div>"
      ],
      "text/plain": [
       "    id  sepal width (cm)  petal width (cm)\n",
       "0    0          4.103581         -1.934637\n",
       "1    1          5.149807         -2.205094\n",
       "2    2          4.103524         -2.112664\n",
       "3    3          3.057354         -1.664180\n",
       "4    4          2.393118          2.465300\n",
       "..  ..               ...               ...\n",
       "70  70          2.529242          0.996478\n",
       "71  71          2.010900         -2.105831\n",
       "72  72          2.131773          3.200515\n",
       "73  73          2.005817          0.152558\n",
       "74  74          1.739275          2.790109\n",
       "\n",
       "[75 rows x 3 columns]"
      ]
     },
     "execution_count": 10,
     "metadata": {},
     "output_type": "execute_result"
    }
   ],
   "source": [
    "submission"
   ]
  },
  {
   "cell_type": "code",
   "execution_count": 11,
   "metadata": {},
   "outputs": [],
   "source": [
    "submission.to_csv(\"result.csv\", index=False)"
   ]
  },
  {
   "cell_type": "markdown",
   "metadata": {},
   "source": [
    "## 추가, 본 코드에서는 MAE 값이 가장 작은 모델을 선정하였지만. 모든 모델의 predict 값을 낸 뒤 평균을 내는 방법도 있습니다.### "
   ]
  },
  {
   "cell_type": "code",
   "execution_count": 12,
   "metadata": {},
   "outputs": [],
   "source": [
    "total_result = np.zeros_like(y_result)\n",
    "\n",
    "for each_model in model_arr:\n",
    "    \n",
    "    each_result = each_model.predict(x_result)\n",
    "    \n",
    "    total_result += each_result\n",
    "    \n",
    "total_result /= split_count"
   ]
  },
  {
   "cell_type": "code",
   "execution_count": 13,
   "metadata": {},
   "outputs": [],
   "source": [
    "submission2 = pd.read_csv('./dataset/sample_submission.csv')\n",
    "submission2['sepal width (cm)'] = y_result[:,0]\n",
    "submission2['petal width (cm)'] = y_result[:,1]\n",
    "\n",
    "submission2.to_csv(\"result2.csv\", index=False)"
   ]
  },
  {
   "cell_type": "code",
   "execution_count": null,
   "metadata": {},
   "outputs": [],
   "source": []
  }
 ],
 "metadata": {
  "kernelspec": {
   "display_name": "Python 3",
   "language": "python",
   "name": "python3"
  },
  "language_info": {
   "codemirror_mode": {
    "name": "ipython",
    "version": 3
   },
   "file_extension": ".py",
   "mimetype": "text/x-python",
   "name": "python",
   "nbconvert_exporter": "python",
   "pygments_lexer": "ipython3",
   "version": "3.8.10"
  }
 },
 "nbformat": 4,
 "nbformat_minor": 4
}
