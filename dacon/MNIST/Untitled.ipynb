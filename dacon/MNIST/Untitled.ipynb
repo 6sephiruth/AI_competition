{
 "cells": [
  {
   "cell_type": "code",
   "execution_count": 1,
   "metadata": {},
   "outputs": [],
   "source": [
    "import numpy as np\n",
    "import pandas as pd\n",
    "import tensorflow as tf\n",
    "import pandas as pd\n",
    "import warnings\n",
    "from PIL import Image\n",
    "import time\n",
    "import matplotlib.pyplot as plt\n",
    "\n",
    "import saliency.core as saliency"
   ]
  },
  {
   "cell_type": "code",
   "execution_count": 2,
   "metadata": {},
   "outputs": [],
   "source": [
    "train_df = pd.read_csv('./dataset/train/train_data.csv')\n",
    "test_df = pd.read_csv('./dataset/test/test_data.csv')\n",
    "submission_csv = pd.read_csv('./dataset/sample_submission.csv')"
   ]
  },
  {
   "cell_type": "code",
   "execution_count": 3,
   "metadata": {},
   "outputs": [],
   "source": [
    "train_file_dir = 'dataset/train/'\n",
    "test_file_dir = 'dataset/test/'\n",
    "\n",
    "x_train = []\n",
    "y_train = train_df['label']\n",
    "\n",
    "for image_name in train_df['filen_name']:\n",
    "    x_train.append(np.array(Image.open(train_file_dir + image_name)).flatten())\n",
    "\n",
    "x_test = []\n",
    "\n",
    "for image_name in test_df['file_name']:\n",
    "    x_test.append(np.array(Image.open(test_file_dir + image_name)).flatten())\n"
   ]
  },
  {
   "cell_type": "code",
   "execution_count": 5,
   "metadata": {},
   "outputs": [],
   "source": [
    "# trans_x_train = np.where(train_image>0, 255, train_image)\n",
    "# trans_x_test = np.where(test_image>0, 255, test_image)"
   ]
  },
  {
   "cell_type": "code",
   "execution_count": null,
   "metadata": {},
   "outputs": [],
   "source": [
    "from sklearn.neural_network import MLPClassifier\n",
    "from sklearn import svm\n",
    "from sklearn.model_selection import train_test_split\n",
    "\n",
    "# x_train, x_validation, y_train, y_validation = train_test_split(x_train, y_train, test_size=0.1, shuffle=True)\n",
    "\n",
    "# clf = MLPClassifier(solver='lbfgs', alpha=1e-5,\n",
    "#                     hidden_layer_sizes=(5, 2), random_state=1)\n",
    "clf = svm.SVC(gamma=0.01)\n",
    "\n",
    "clf.fit(x_train, y_train)\n",
    "\n",
    "# MLPClassifier(alpha=1e-05, hidden_layer_sizes=(5, 2), random_state=1,\n",
    "#               solver='lbfgs')\n",
    "\n",
    "clf.score(x_validation, y_validation)"
   ]
  },
  {
   "cell_type": "code",
   "execution_count": null,
   "metadata": {},
   "outputs": [],
   "source": [
    "clf.score(x_validation, y_validation)"
   ]
  },
  {
   "cell_type": "code",
   "execution_count": null,
   "metadata": {},
   "outputs": [],
   "source": [
    "submission_csv['label'] = clf.predict(x_test)\n",
    "\n",
    "submission_csv.to_csv('submission.csv', index=False)"
   ]
  },
  {
   "cell_type": "code",
   "execution_count": null,
   "metadata": {},
   "outputs": [],
   "source": [
    "submission_csv"
   ]
  },
  {
   "cell_type": "code",
   "execution_count": null,
   "metadata": {},
   "outputs": [],
   "source": []
  }
 ],
 "metadata": {
  "kernelspec": {
   "display_name": "Python 3",
   "language": "python",
   "name": "python3"
  },
  "language_info": {
   "codemirror_mode": {
    "name": "ipython",
    "version": 3
   },
   "file_extension": ".py",
   "mimetype": "text/x-python",
   "name": "python",
   "nbconvert_exporter": "python",
   "pygments_lexer": "ipython3",
   "version": "3.8.10"
  }
 },
 "nbformat": 4,
 "nbformat_minor": 4
}
