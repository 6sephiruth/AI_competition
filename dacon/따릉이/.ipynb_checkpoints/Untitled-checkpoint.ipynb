{
 "cells": [
  {
   "cell_type": "code",
   "execution_count": 27,
   "metadata": {},
   "outputs": [],
   "source": [
    "import pandas as pd\n",
    "import numpy as np\n",
    "import matplotlib.pyplot as plt\n",
    "import seaborn as sns\n",
    "\n",
    "np.random.seed(1)"
   ]
  },
  {
   "cell_type": "code",
   "execution_count": 28,
   "metadata": {},
   "outputs": [],
   "source": [
    "train_df = pd.read_csv('./dataset/train.csv')\n",
    "test_df = pd.read_csv('./dataset/test.csv')"
   ]
  },
  {
   "cell_type": "code",
   "execution_count": 29,
   "metadata": {},
   "outputs": [],
   "source": [
    "train_df['binary_week'] = pd.to_datetime(train_df['date_time']).dt.weekday\n",
    "test_df['binary_week'] = pd.to_datetime(test_df['date_time']).dt.weekday"
   ]
  },
  {
   "cell_type": "code",
   "execution_count": 30,
   "metadata": {},
   "outputs": [
    {
     "name": "stdout",
     "output_type": "stream",
     "text": [
      "2330334\n",
      "2288535\n",
      "2347456\n",
      "2324045\n",
      "2372485\n",
      "2374604\n",
      "2226510\n"
     ]
    }
   ],
   "source": [
    "print(train_df.query(\"binary_week == 0\")['number_of_rentals'].sum())\n",
    "print(train_df.query(\"binary_week == 1\")['number_of_rentals'].sum())\n",
    "print(train_df.query(\"binary_week == 2\")['number_of_rentals'].sum())\n",
    "print(train_df.query(\"binary_week == 3\")['number_of_rentals'].sum())\n",
    "print(train_df.query(\"binary_week == 4\")['number_of_rentals'].sum())\n",
    "print(train_df.query(\"binary_week == 5\")['number_of_rentals'].sum())\n",
    "print(train_df.query(\"binary_week == 6\")['number_of_rentals'].sum())"
   ]
  },
  {
   "cell_type": "code",
   "execution_count": 10,
   "metadata": {},
   "outputs": [
    {
     "data": {
      "text/plain": [
       "<AxesSubplot:xlabel='number_of_rentals', ylabel='count'>"
      ]
     },
     "execution_count": 10,
     "metadata": {},
     "output_type": "execute_result"
    },
    {
     "data": {
      "image/png": "[encoded data removed]",
      "text/plain": [
       "<Figure size 432x288 with 1 Axes>"
      ]
     },
     "metadata": {
      "needs_background": "light"
     },
     "output_type": "display_data"
    }
   ],
   "source": [
    "sns.countplot(data=titanic_df, x=col, ax=ax_list[i])\n"
   ]
  },
  {
   "cell_type": "code",
   "execution_count": null,
   "metadata": {},
   "outputs": [],
   "source": [
    "from sklearn.model_selection import train_test_split\n",
    "\n",
    "x_train, x_validation, y_train, y_validation = train_test_split()"
   ]
  },
  {
   "cell_type": "code",
   "execution_count": 3,
   "metadata": {},
   "outputs": [],
   "source": [
    "train_df['binary_week'] = pd.to_datetime(train_df['date_time']).dt.weekday\n",
    "test_df['binary_week'] = pd.to_datetime(test_df['date_time']).dt.weekday\n",
    "\n",
    "train_df['binary_week'] = train_df['binary_week'].map({0:0, 1:0, 2:0, 3:0, 4:0, 5:1, 6:1})\n",
    "test_df['binary_week'] = test_df['binary_week'].map({0:0, 1:0, 2:0, 3:0, 4:0, 5:1, 6:1})"
   ]
  },
  {
   "cell_type": "code",
   "execution_count": null,
   "metadata": {},
   "outputs": [],
   "source": []
  },
  {
   "cell_type": "code",
   "execution_count": null,
   "metadata": {},
   "outputs": [],
   "source": [
    "x_train =  train_df.drop(['date_time', 'number_of_rentals'], axis=1)\n",
    "x_test =  test_df.drop(['date_time'], axis=1)\n",
    "\n",
    "y_train = train_df['number_of_rentals']"
   ]
  },
  {
   "cell_type": "code",
   "execution_count": null,
   "metadata": {},
   "outputs": [],
   "source": [
    "train_df.drop('humidity', axis=1, inplace=True)\n",
    "test_df.drop('humidity', axis=1, inplace=True)"
   ]
  },
  {
   "cell_type": "code",
   "execution_count": null,
   "metadata": {},
   "outputs": [],
   "source": [
    "from sklearn.preprocessing import MinMaxScaler, PolynomialFeatures\n",
    "\n",
    "x_train = PolynomialFeatures(degree=3, include_bias=False).fit_transform(x_train)\n",
    "x_test = PolynomialFeatures(degree=3, include_bias=False).fit_transform(x_test)"
   ]
  },
  {
   "cell_type": "markdown",
   "metadata": {},
   "source": [
    "#### Correlation Analysis"
   ]
  },
  {
   "cell_type": "code",
   "execution_count": null,
   "metadata": {},
   "outputs": [],
   "source": [
    "corr = train_df.corr()\n",
    "plt.figure(figsize=(10, 10));\n",
    "sns.heatmap(corr,\n",
    "            vmax=0.8,\n",
    "            linewidths=0.01,\n",
    "            square=True,\n",
    "            annot=True,\n",
    "            cmap='YlGnBu');\n",
    "plt.title('Feature Correlation');"
   ]
  },
  {
   "cell_type": "markdown",
   "metadata": {},
   "source": [
    "#### DecisionTreeClassifier"
   ]
  },
  {
   "cell_type": "code",
   "execution_count": null,
   "metadata": {},
   "outputs": [],
   "source": [
    "from sklearn.tree import DecisionTreeClassifier\n",
    "\n",
    "dt_clf = DecisionTreeClassifier()\n",
    "dt_clf.fit(x_train, y_train)\n",
    "y_pred = dt_clf.predict(x_train)\n",
    "\n",
    "nmae = np.mean(abs(y_pred - y_train) / y_train) # nmae 계산\n",
    "\n",
    "print(f'모델 NMAE: {nmae}')"
   ]
  },
  {
   "cell_type": "markdown",
   "metadata": {},
   "source": [
    "#### RandomForestClassifier"
   ]
  },
  {
   "cell_type": "code",
   "execution_count": null,
   "metadata": {},
   "outputs": [],
   "source": [
    "from sklearn.ensemble import RandomForestClassifier\n",
    "\n",
    "rf_clf = RandomForestClassifier()\n",
    "rf_clf.fit(x_train, y_train)\n",
    "y_pred = rf_clf.predict(x_train)\n",
    "\n",
    "nmae = np.mean(abs(y_pred - y_train) / y_train) # nmae 계산\n",
    "\n",
    "print(f'모델 NMAE: {nmae}')"
   ]
  },
  {
   "cell_type": "markdown",
   "metadata": {},
   "source": [
    "#### XGBClassifier"
   ]
  },
  {
   "cell_type": "code",
   "execution_count": null,
   "metadata": {},
   "outputs": [],
   "source": [
    "from xgboost import XGBRegressor\n",
    "\n",
    "xgb_clf = XGBRegressor()\n",
    "xgb_clf.fit(x_train, y_train)\n",
    "y_pred = xgb_clf.predict(x_train)\n",
    "\n",
    "nmae = np.mean(abs(y_pred - y_train) / y_train) # nmae 계산\n",
    "\n",
    "print(f'모델 NMAE: {nmae}')"
   ]
  },
  {
   "cell_type": "code",
   "execution_count": null,
   "metadata": {},
   "outputs": [],
   "source": [
    "submission  = pd.read_csv('dataset/sample_submission.csv')\n",
    "submission"
   ]
  },
  {
   "cell_type": "code",
   "execution_count": null,
   "metadata": {},
   "outputs": [],
   "source": [
    "submission  = pd.read_csv('dataset/sample_submission.csv')\n",
    "\n",
    "y_pred = rf_clf.predict(x_test)\n",
    "y_pred = y_pred.round()\n",
    "submission['number_of_rentals'] = y_pred"
   ]
  },
  {
   "cell_type": "code",
   "execution_count": null,
   "metadata": {},
   "outputs": [],
   "source": [
    "submission"
   ]
  },
  {
   "cell_type": "code",
   "execution_count": null,
   "metadata": {},
   "outputs": [],
   "source": [
    "submission.to_csv('four.csv', index= False)"
   ]
  },
  {
   "cell_type": "code",
   "execution_count": null,
   "metadata": {},
   "outputs": [],
   "source": []
  },
  {
   "cell_type": "code",
   "execution_count": null,
   "metadata": {},
   "outputs": [],
   "source": []
  }
 ],
 "metadata": {
  "kernelspec": {
   "display_name": "Python 3",
   "language": "python",
   "name": "python3"
  },
  "language_info": {
   "codemirror_mode": {
    "name": "ipython",
    "version": 3
   },
   "file_extension": ".py",
   "mimetype": "text/x-python",
   "name": "python",
   "nbconvert_exporter": "python",
   "pygments_lexer": "ipython3",
   "version": "3.8.10"
  }
 },
 "nbformat": 4,
 "nbformat_minor": 4
}
